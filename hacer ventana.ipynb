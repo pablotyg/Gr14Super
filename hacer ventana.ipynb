{
 "cells": [
  {
   "cell_type": "markdown",
   "metadata": {},
   "source": []
  },
  {
   "cell_type": "code",
   "execution_count": null,
   "metadata": {},
   "outputs": [],
   "source": [
    "import tkinter as tk\n",
    "ventana=tk.Tk()\n",
    "ventana.title(\"Ventana Login\")\n",
    "\n",
    "#Ancho x Alto\n",
    "ventana.geometry('380x300')\n",
    "ventana.configure(background='dark turquoise')\n",
    "\n",
    "\n",
    "ventana.mainloop()\n"
   ]
  },
  {
   "cell_type": "markdown",
   "metadata": {},
   "source": []
  },
  {
   "cell_type": "code",
   "execution_count": null,
   "metadata": {},
   "outputs": [],
   "source": []
  }
 ],
 "metadata": {
  "kernelspec": {
   "display_name": "Python 3.10.8 64-bit (microsoft store)",
   "language": "python",
   "name": "python3"
  },
  "language_info": {
   "name": "python",
   "version": "3.10.8"
  },
  "orig_nbformat": 4,
  "vscode": {
   "interpreter": {
    "hash": "5e98c8a874351d2ff5bfb012ab698fe0d7ac1ecbdd90a412831783ae7fc3576b"
   }
  }
 },
 "nbformat": 4,
 "nbformat_minor": 2
}
